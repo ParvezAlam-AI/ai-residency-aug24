{
  "nbformat": 4,
  "nbformat_minor": 0,
  "metadata": {
    "colab": {
      "provenance": [],
      "authorship_tag": "ABX9TyMwC7/KqoU4NNBVt1MpB4xg",
      "include_colab_link": true
    },
    "kernelspec": {
      "name": "python3",
      "display_name": "Python 3"
    },
    "language_info": {
      "name": "python"
    }
  },
  "cells": [
    {
      "cell_type": "markdown",
      "metadata": {
        "id": "view-in-github",
        "colab_type": "text"
      },
      "source": [
        "<a href=\"https://colab.research.google.com/github/ParvezAlam-AI/ai-residency-aug24/blob/main/stock_openai.ipynb\" target=\"_parent\"><img src=\"https://colab.research.google.com/assets/colab-badge.svg\" alt=\"Open In Colab\"/></a>"
      ]
    },
    {
      "cell_type": "code",
      "execution_count": 1,
      "metadata": {
        "colab": {
          "base_uri": "https://localhost:8080/"
        },
        "collapsed": true,
        "id": "GWZTp7KawpUG",
        "outputId": "250f84cd-24bd-4daf-96e6-10ddf18162f2"
      },
      "outputs": [
        {
          "output_type": "stream",
          "name": "stdout",
          "text": [
            "Collecting openai==0.28\n",
            "  Downloading openai-0.28.0-py3-none-any.whl.metadata (13 kB)\n",
            "Requirement already satisfied: requests>=2.20 in /usr/local/lib/python3.10/dist-packages (from openai==0.28) (2.32.3)\n",
            "Requirement already satisfied: tqdm in /usr/local/lib/python3.10/dist-packages (from openai==0.28) (4.66.5)\n",
            "Requirement already satisfied: aiohttp in /usr/local/lib/python3.10/dist-packages (from openai==0.28) (3.10.5)\n",
            "Requirement already satisfied: charset-normalizer<4,>=2 in /usr/local/lib/python3.10/dist-packages (from requests>=2.20->openai==0.28) (3.3.2)\n",
            "Requirement already satisfied: idna<4,>=2.5 in /usr/local/lib/python3.10/dist-packages (from requests>=2.20->openai==0.28) (3.10)\n",
            "Requirement already satisfied: urllib3<3,>=1.21.1 in /usr/local/lib/python3.10/dist-packages (from requests>=2.20->openai==0.28) (2.2.3)\n",
            "Requirement already satisfied: certifi>=2017.4.17 in /usr/local/lib/python3.10/dist-packages (from requests>=2.20->openai==0.28) (2024.8.30)\n",
            "Requirement already satisfied: aiohappyeyeballs>=2.3.0 in /usr/local/lib/python3.10/dist-packages (from aiohttp->openai==0.28) (2.4.0)\n",
            "Requirement already satisfied: aiosignal>=1.1.2 in /usr/local/lib/python3.10/dist-packages (from aiohttp->openai==0.28) (1.3.1)\n",
            "Requirement already satisfied: attrs>=17.3.0 in /usr/local/lib/python3.10/dist-packages (from aiohttp->openai==0.28) (24.2.0)\n",
            "Requirement already satisfied: frozenlist>=1.1.1 in /usr/local/lib/python3.10/dist-packages (from aiohttp->openai==0.28) (1.4.1)\n",
            "Requirement already satisfied: multidict<7.0,>=4.5 in /usr/local/lib/python3.10/dist-packages (from aiohttp->openai==0.28) (6.1.0)\n",
            "Requirement already satisfied: yarl<2.0,>=1.0 in /usr/local/lib/python3.10/dist-packages (from aiohttp->openai==0.28) (1.11.1)\n",
            "Requirement already satisfied: async-timeout<5.0,>=4.0 in /usr/local/lib/python3.10/dist-packages (from aiohttp->openai==0.28) (4.0.3)\n",
            "Requirement already satisfied: typing-extensions>=4.1.0 in /usr/local/lib/python3.10/dist-packages (from multidict<7.0,>=4.5->aiohttp->openai==0.28) (4.12.2)\n",
            "Downloading openai-0.28.0-py3-none-any.whl (76 kB)\n",
            "\u001b[2K   \u001b[90m━━━━━━━━━━━━━━━━━━━━━━━━━━━━━━━━━━━━━━━━\u001b[0m \u001b[32m76.5/76.5 kB\u001b[0m \u001b[31m3.0 MB/s\u001b[0m eta \u001b[36m0:00:00\u001b[0m\n",
            "\u001b[?25hInstalling collected packages: openai\n",
            "Successfully installed openai-0.28.0\n"
          ]
        }
      ],
      "source": [
        "!pip install openai==0.28"
      ]
    },
    {
      "cell_type": "code",
      "source": [
        "!pip install gradio\n"
      ],
      "metadata": {
        "colab": {
          "base_uri": "https://localhost:8080/"
        },
        "collapsed": true,
        "id": "Zq3BYakEw3pi",
        "outputId": "d435c2cd-c099-45bf-d0f3-8b44439fdeeb"
      },
      "execution_count": 2,
      "outputs": [
        {
          "output_type": "stream",
          "name": "stdout",
          "text": [
            "Collecting gradio\n",
            "  Downloading gradio-4.44.0-py3-none-any.whl.metadata (15 kB)\n",
            "Collecting aiofiles<24.0,>=22.0 (from gradio)\n",
            "  Downloading aiofiles-23.2.1-py3-none-any.whl.metadata (9.7 kB)\n",
            "Requirement already satisfied: anyio<5.0,>=3.0 in /usr/local/lib/python3.10/dist-packages (from gradio) (3.7.1)\n",
            "Collecting fastapi<1.0 (from gradio)\n",
            "  Downloading fastapi-0.115.0-py3-none-any.whl.metadata (27 kB)\n",
            "Collecting ffmpy (from gradio)\n",
            "  Downloading ffmpy-0.4.0-py3-none-any.whl.metadata (2.9 kB)\n",
            "Collecting gradio-client==1.3.0 (from gradio)\n",
            "  Downloading gradio_client-1.3.0-py3-none-any.whl.metadata (7.1 kB)\n",
            "Collecting httpx>=0.24.1 (from gradio)\n",
            "  Downloading httpx-0.27.2-py3-none-any.whl.metadata (7.1 kB)\n",
            "Requirement already satisfied: huggingface-hub>=0.19.3 in /usr/local/lib/python3.10/dist-packages (from gradio) (0.24.7)\n",
            "Requirement already satisfied: importlib-resources<7.0,>=1.3 in /usr/local/lib/python3.10/dist-packages (from gradio) (6.4.5)\n",
            "Requirement already satisfied: jinja2<4.0 in /usr/local/lib/python3.10/dist-packages (from gradio) (3.1.4)\n",
            "Requirement already satisfied: markupsafe~=2.0 in /usr/local/lib/python3.10/dist-packages (from gradio) (2.1.5)\n",
            "Requirement already satisfied: matplotlib~=3.0 in /usr/local/lib/python3.10/dist-packages (from gradio) (3.7.1)\n",
            "Requirement already satisfied: numpy<3.0,>=1.0 in /usr/local/lib/python3.10/dist-packages (from gradio) (1.26.4)\n",
            "Collecting orjson~=3.0 (from gradio)\n",
            "  Downloading orjson-3.10.7-cp310-cp310-manylinux_2_17_x86_64.manylinux2014_x86_64.whl.metadata (50 kB)\n",
            "\u001b[2K     \u001b[90m━━━━━━━━━━━━━━━━━━━━━━━━━━━━━━━━━━━━━━━━\u001b[0m \u001b[32m50.4/50.4 kB\u001b[0m \u001b[31m665.4 kB/s\u001b[0m eta \u001b[36m0:00:00\u001b[0m\n",
            "\u001b[?25hRequirement already satisfied: packaging in /usr/local/lib/python3.10/dist-packages (from gradio) (24.1)\n",
            "Requirement already satisfied: pandas<3.0,>=1.0 in /usr/local/lib/python3.10/dist-packages (from gradio) (2.1.4)\n",
            "Requirement already satisfied: pillow<11.0,>=8.0 in /usr/local/lib/python3.10/dist-packages (from gradio) (10.4.0)\n",
            "Requirement already satisfied: pydantic>=2.0 in /usr/local/lib/python3.10/dist-packages (from gradio) (2.9.2)\n",
            "Collecting pydub (from gradio)\n",
            "  Downloading pydub-0.25.1-py2.py3-none-any.whl.metadata (1.4 kB)\n",
            "Collecting python-multipart>=0.0.9 (from gradio)\n",
            "  Downloading python_multipart-0.0.10-py3-none-any.whl.metadata (1.9 kB)\n",
            "Requirement already satisfied: pyyaml<7.0,>=5.0 in /usr/local/lib/python3.10/dist-packages (from gradio) (6.0.2)\n",
            "Collecting ruff>=0.2.2 (from gradio)\n",
            "  Downloading ruff-0.6.7-py3-none-manylinux_2_17_x86_64.manylinux2014_x86_64.whl.metadata (25 kB)\n",
            "Collecting semantic-version~=2.0 (from gradio)\n",
            "  Downloading semantic_version-2.10.0-py2.py3-none-any.whl.metadata (9.7 kB)\n",
            "Collecting tomlkit==0.12.0 (from gradio)\n",
            "  Downloading tomlkit-0.12.0-py3-none-any.whl.metadata (2.7 kB)\n",
            "Requirement already satisfied: typer<1.0,>=0.12 in /usr/local/lib/python3.10/dist-packages (from gradio) (0.12.5)\n",
            "Requirement already satisfied: typing-extensions~=4.0 in /usr/local/lib/python3.10/dist-packages (from gradio) (4.12.2)\n",
            "Requirement already satisfied: urllib3~=2.0 in /usr/local/lib/python3.10/dist-packages (from gradio) (2.2.3)\n",
            "Collecting uvicorn>=0.14.0 (from gradio)\n",
            "  Downloading uvicorn-0.30.6-py3-none-any.whl.metadata (6.6 kB)\n",
            "Requirement already satisfied: fsspec in /usr/local/lib/python3.10/dist-packages (from gradio-client==1.3.0->gradio) (2024.6.1)\n",
            "Collecting websockets<13.0,>=10.0 (from gradio-client==1.3.0->gradio)\n",
            "  Downloading websockets-12.0-cp310-cp310-manylinux_2_5_x86_64.manylinux1_x86_64.manylinux_2_17_x86_64.manylinux2014_x86_64.whl.metadata (6.6 kB)\n",
            "Requirement already satisfied: idna>=2.8 in /usr/local/lib/python3.10/dist-packages (from anyio<5.0,>=3.0->gradio) (3.10)\n",
            "Requirement already satisfied: sniffio>=1.1 in /usr/local/lib/python3.10/dist-packages (from anyio<5.0,>=3.0->gradio) (1.3.1)\n",
            "Requirement already satisfied: exceptiongroup in /usr/local/lib/python3.10/dist-packages (from anyio<5.0,>=3.0->gradio) (1.2.2)\n",
            "Collecting starlette<0.39.0,>=0.37.2 (from fastapi<1.0->gradio)\n",
            "  Downloading starlette-0.38.6-py3-none-any.whl.metadata (6.0 kB)\n",
            "Requirement already satisfied: certifi in /usr/local/lib/python3.10/dist-packages (from httpx>=0.24.1->gradio) (2024.8.30)\n",
            "Collecting httpcore==1.* (from httpx>=0.24.1->gradio)\n",
            "  Downloading httpcore-1.0.5-py3-none-any.whl.metadata (20 kB)\n",
            "Collecting h11<0.15,>=0.13 (from httpcore==1.*->httpx>=0.24.1->gradio)\n",
            "  Downloading h11-0.14.0-py3-none-any.whl.metadata (8.2 kB)\n",
            "Requirement already satisfied: filelock in /usr/local/lib/python3.10/dist-packages (from huggingface-hub>=0.19.3->gradio) (3.16.1)\n",
            "Requirement already satisfied: requests in /usr/local/lib/python3.10/dist-packages (from huggingface-hub>=0.19.3->gradio) (2.32.3)\n",
            "Requirement already satisfied: tqdm>=4.42.1 in /usr/local/lib/python3.10/dist-packages (from huggingface-hub>=0.19.3->gradio) (4.66.5)\n",
            "Requirement already satisfied: contourpy>=1.0.1 in /usr/local/lib/python3.10/dist-packages (from matplotlib~=3.0->gradio) (1.3.0)\n",
            "Requirement already satisfied: cycler>=0.10 in /usr/local/lib/python3.10/dist-packages (from matplotlib~=3.0->gradio) (0.12.1)\n",
            "Requirement already satisfied: fonttools>=4.22.0 in /usr/local/lib/python3.10/dist-packages (from matplotlib~=3.0->gradio) (4.53.1)\n",
            "Requirement already satisfied: kiwisolver>=1.0.1 in /usr/local/lib/python3.10/dist-packages (from matplotlib~=3.0->gradio) (1.4.7)\n",
            "Requirement already satisfied: pyparsing>=2.3.1 in /usr/local/lib/python3.10/dist-packages (from matplotlib~=3.0->gradio) (3.1.4)\n",
            "Requirement already satisfied: python-dateutil>=2.7 in /usr/local/lib/python3.10/dist-packages (from matplotlib~=3.0->gradio) (2.8.2)\n",
            "Requirement already satisfied: pytz>=2020.1 in /usr/local/lib/python3.10/dist-packages (from pandas<3.0,>=1.0->gradio) (2024.2)\n",
            "Requirement already satisfied: tzdata>=2022.1 in /usr/local/lib/python3.10/dist-packages (from pandas<3.0,>=1.0->gradio) (2024.1)\n",
            "Requirement already satisfied: annotated-types>=0.6.0 in /usr/local/lib/python3.10/dist-packages (from pydantic>=2.0->gradio) (0.7.0)\n",
            "Requirement already satisfied: pydantic-core==2.23.4 in /usr/local/lib/python3.10/dist-packages (from pydantic>=2.0->gradio) (2.23.4)\n",
            "Requirement already satisfied: click>=8.0.0 in /usr/local/lib/python3.10/dist-packages (from typer<1.0,>=0.12->gradio) (8.1.7)\n",
            "Requirement already satisfied: shellingham>=1.3.0 in /usr/local/lib/python3.10/dist-packages (from typer<1.0,>=0.12->gradio) (1.5.4)\n",
            "Requirement already satisfied: rich>=10.11.0 in /usr/local/lib/python3.10/dist-packages (from typer<1.0,>=0.12->gradio) (13.8.1)\n",
            "Requirement already satisfied: six>=1.5 in /usr/local/lib/python3.10/dist-packages (from python-dateutil>=2.7->matplotlib~=3.0->gradio) (1.16.0)\n",
            "Requirement already satisfied: markdown-it-py>=2.2.0 in /usr/local/lib/python3.10/dist-packages (from rich>=10.11.0->typer<1.0,>=0.12->gradio) (3.0.0)\n",
            "Requirement already satisfied: pygments<3.0.0,>=2.13.0 in /usr/local/lib/python3.10/dist-packages (from rich>=10.11.0->typer<1.0,>=0.12->gradio) (2.18.0)\n",
            "Requirement already satisfied: charset-normalizer<4,>=2 in /usr/local/lib/python3.10/dist-packages (from requests->huggingface-hub>=0.19.3->gradio) (3.3.2)\n",
            "Requirement already satisfied: mdurl~=0.1 in /usr/local/lib/python3.10/dist-packages (from markdown-it-py>=2.2.0->rich>=10.11.0->typer<1.0,>=0.12->gradio) (0.1.2)\n",
            "Downloading gradio-4.44.0-py3-none-any.whl (18.1 MB)\n",
            "\u001b[2K   \u001b[90m━━━━━━━━━━━━━━━━━━━━━━━━━━━━━━━━━━━━━━━━\u001b[0m \u001b[32m18.1/18.1 MB\u001b[0m \u001b[31m38.8 MB/s\u001b[0m eta \u001b[36m0:00:00\u001b[0m\n",
            "\u001b[?25hDownloading gradio_client-1.3.0-py3-none-any.whl (318 kB)\n",
            "\u001b[2K   \u001b[90m━━━━━━━━━━━━━━━━━━━━━━━━━━━━━━━━━━━━━━━━\u001b[0m \u001b[32m318.7/318.7 kB\u001b[0m \u001b[31m21.4 MB/s\u001b[0m eta \u001b[36m0:00:00\u001b[0m\n",
            "\u001b[?25hDownloading tomlkit-0.12.0-py3-none-any.whl (37 kB)\n",
            "Downloading aiofiles-23.2.1-py3-none-any.whl (15 kB)\n",
            "Downloading fastapi-0.115.0-py3-none-any.whl (94 kB)\n",
            "\u001b[2K   \u001b[90m━━━━━━━━━━━━━━━━━━━━━━━━━━━━━━━━━━━━━━━━\u001b[0m \u001b[32m94.6/94.6 kB\u001b[0m \u001b[31m8.4 MB/s\u001b[0m eta \u001b[36m0:00:00\u001b[0m\n",
            "\u001b[?25hDownloading httpx-0.27.2-py3-none-any.whl (76 kB)\n",
            "\u001b[2K   \u001b[90m━━━━━━━━━━━━━━━━━━━━━━━━━━━━━━━━━━━━━━━━\u001b[0m \u001b[32m76.4/76.4 kB\u001b[0m \u001b[31m5.9 MB/s\u001b[0m eta \u001b[36m0:00:00\u001b[0m\n",
            "\u001b[?25hDownloading httpcore-1.0.5-py3-none-any.whl (77 kB)\n",
            "\u001b[2K   \u001b[90m━━━━━━━━━━━━━━━━━━━━━━━━━━━━━━━━━━━━━━━━\u001b[0m \u001b[32m77.9/77.9 kB\u001b[0m \u001b[31m5.9 MB/s\u001b[0m eta \u001b[36m0:00:00\u001b[0m\n",
            "\u001b[?25hDownloading orjson-3.10.7-cp310-cp310-manylinux_2_17_x86_64.manylinux2014_x86_64.whl (141 kB)\n",
            "\u001b[2K   \u001b[90m━━━━━━━━━━━━━━━━━━━━━━━━━━━━━━━━━━━━━━━━\u001b[0m \u001b[32m141.9/141.9 kB\u001b[0m \u001b[31m11.1 MB/s\u001b[0m eta \u001b[36m0:00:00\u001b[0m\n",
            "\u001b[?25hDownloading python_multipart-0.0.10-py3-none-any.whl (22 kB)\n",
            "Downloading ruff-0.6.7-py3-none-manylinux_2_17_x86_64.manylinux2014_x86_64.whl (10.8 MB)\n",
            "\u001b[2K   \u001b[90m━━━━━━━━━━━━━━━━━━━━━━━━━━━━━━━━━━━━━━━━\u001b[0m \u001b[32m10.8/10.8 MB\u001b[0m \u001b[31m87.6 MB/s\u001b[0m eta \u001b[36m0:00:00\u001b[0m\n",
            "\u001b[?25hDownloading semantic_version-2.10.0-py2.py3-none-any.whl (15 kB)\n",
            "Downloading uvicorn-0.30.6-py3-none-any.whl (62 kB)\n",
            "\u001b[2K   \u001b[90m━━━━━━━━━━━━━━━━━━━━━━━━━━━━━━━━━━━━━━━━\u001b[0m \u001b[32m62.8/62.8 kB\u001b[0m \u001b[31m4.2 MB/s\u001b[0m eta \u001b[36m0:00:00\u001b[0m\n",
            "\u001b[?25hDownloading ffmpy-0.4.0-py3-none-any.whl (5.8 kB)\n",
            "Downloading pydub-0.25.1-py2.py3-none-any.whl (32 kB)\n",
            "Downloading h11-0.14.0-py3-none-any.whl (58 kB)\n",
            "\u001b[2K   \u001b[90m━━━━━━━━━━━━━━━━━━━━━━━━━━━━━━━━━━━━━━━━\u001b[0m \u001b[32m58.3/58.3 kB\u001b[0m \u001b[31m3.8 MB/s\u001b[0m eta \u001b[36m0:00:00\u001b[0m\n",
            "\u001b[?25hDownloading starlette-0.38.6-py3-none-any.whl (71 kB)\n",
            "\u001b[2K   \u001b[90m━━━━━━━━━━━━━━━━━━━━━━━━━━━━━━━━━━━━━━━━\u001b[0m \u001b[32m71.5/71.5 kB\u001b[0m \u001b[31m5.2 MB/s\u001b[0m eta \u001b[36m0:00:00\u001b[0m\n",
            "\u001b[?25hDownloading websockets-12.0-cp310-cp310-manylinux_2_5_x86_64.manylinux1_x86_64.manylinux_2_17_x86_64.manylinux2014_x86_64.whl (130 kB)\n",
            "\u001b[2K   \u001b[90m━━━━━━━━━━━━━━━━━━━━━━━━━━━━━━━━━━━━━━━━\u001b[0m \u001b[32m130.2/130.2 kB\u001b[0m \u001b[31m9.3 MB/s\u001b[0m eta \u001b[36m0:00:00\u001b[0m\n",
            "\u001b[?25hInstalling collected packages: pydub, websockets, tomlkit, semantic-version, ruff, python-multipart, orjson, h11, ffmpy, aiofiles, uvicorn, starlette, httpcore, httpx, fastapi, gradio-client, gradio\n",
            "Successfully installed aiofiles-23.2.1 fastapi-0.115.0 ffmpy-0.4.0 gradio-4.44.0 gradio-client-1.3.0 h11-0.14.0 httpcore-1.0.5 httpx-0.27.2 orjson-3.10.7 pydub-0.25.1 python-multipart-0.0.10 ruff-0.6.7 semantic-version-2.10.0 starlette-0.38.6 tomlkit-0.12.0 uvicorn-0.30.6 websockets-12.0\n"
          ]
        }
      ]
    },
    {
      "cell_type": "code",
      "source": [
        "!pip install yfinance\n"
      ],
      "metadata": {
        "colab": {
          "base_uri": "https://localhost:8080/"
        },
        "collapsed": true,
        "id": "z490M4vyy4kb",
        "outputId": "7cb23769-6531-4bd1-af86-b9e74f7796de"
      },
      "execution_count": 3,
      "outputs": [
        {
          "output_type": "stream",
          "name": "stdout",
          "text": [
            "Requirement already satisfied: yfinance in /usr/local/lib/python3.10/dist-packages (0.2.43)\n",
            "Requirement already satisfied: pandas>=1.3.0 in /usr/local/lib/python3.10/dist-packages (from yfinance) (2.1.4)\n",
            "Requirement already satisfied: numpy>=1.16.5 in /usr/local/lib/python3.10/dist-packages (from yfinance) (1.26.4)\n",
            "Requirement already satisfied: requests>=2.31 in /usr/local/lib/python3.10/dist-packages (from yfinance) (2.32.3)\n",
            "Requirement already satisfied: multitasking>=0.0.7 in /usr/local/lib/python3.10/dist-packages (from yfinance) (0.0.11)\n",
            "Requirement already satisfied: lxml>=4.9.1 in /usr/local/lib/python3.10/dist-packages (from yfinance) (4.9.4)\n",
            "Requirement already satisfied: platformdirs>=2.0.0 in /usr/local/lib/python3.10/dist-packages (from yfinance) (4.3.6)\n",
            "Requirement already satisfied: pytz>=2022.5 in /usr/local/lib/python3.10/dist-packages (from yfinance) (2024.2)\n",
            "Requirement already satisfied: frozendict>=2.3.4 in /usr/local/lib/python3.10/dist-packages (from yfinance) (2.4.4)\n",
            "Requirement already satisfied: peewee>=3.16.2 in /usr/local/lib/python3.10/dist-packages (from yfinance) (3.17.6)\n",
            "Requirement already satisfied: beautifulsoup4>=4.11.1 in /usr/local/lib/python3.10/dist-packages (from yfinance) (4.12.3)\n",
            "Requirement already satisfied: html5lib>=1.1 in /usr/local/lib/python3.10/dist-packages (from yfinance) (1.1)\n",
            "Requirement already satisfied: soupsieve>1.2 in /usr/local/lib/python3.10/dist-packages (from beautifulsoup4>=4.11.1->yfinance) (2.6)\n",
            "Requirement already satisfied: six>=1.9 in /usr/local/lib/python3.10/dist-packages (from html5lib>=1.1->yfinance) (1.16.0)\n",
            "Requirement already satisfied: webencodings in /usr/local/lib/python3.10/dist-packages (from html5lib>=1.1->yfinance) (0.5.1)\n",
            "Requirement already satisfied: python-dateutil>=2.8.2 in /usr/local/lib/python3.10/dist-packages (from pandas>=1.3.0->yfinance) (2.8.2)\n",
            "Requirement already satisfied: tzdata>=2022.1 in /usr/local/lib/python3.10/dist-packages (from pandas>=1.3.0->yfinance) (2024.1)\n",
            "Requirement already satisfied: charset-normalizer<4,>=2 in /usr/local/lib/python3.10/dist-packages (from requests>=2.31->yfinance) (3.3.2)\n",
            "Requirement already satisfied: idna<4,>=2.5 in /usr/local/lib/python3.10/dist-packages (from requests>=2.31->yfinance) (3.10)\n",
            "Requirement already satisfied: urllib3<3,>=1.21.1 in /usr/local/lib/python3.10/dist-packages (from requests>=2.31->yfinance) (2.2.3)\n",
            "Requirement already satisfied: certifi>=2017.4.17 in /usr/local/lib/python3.10/dist-packages (from requests>=2.31->yfinance) (2024.8.30)\n"
          ]
        }
      ]
    },
    {
      "cell_type": "code",
      "source": [
        "from google.colab import userdata"
      ],
      "metadata": {
        "id": "EApPtwY86lPL"
      },
      "execution_count": 4,
      "outputs": []
    },
    {
      "cell_type": "code",
      "source": [
        "import pandas as pd\n",
        "import openai\n",
        "import gradio as gr\n",
        "import requests\n",
        "import yfinance as yf"
      ],
      "metadata": {
        "id": "vrQp5uNGxAgN"
      },
      "execution_count": 5,
      "outputs": []
    },
    {
      "cell_type": "code",
      "source": [
        "symbol = 'TSLA'\n",
        "\n",
        "stock = yf.Ticker(symbol)\n",
        "price = stock.history(period='1d')\n",
        "\n",
        "latest_price = price['Close'][0]\n",
        "\n",
        "print(f'The price of {stock} is {latest_price}')\n",
        "\n",
        "\n"
      ],
      "metadata": {
        "colab": {
          "base_uri": "https://localhost:8080/"
        },
        "id": "q8uScJ8kxP9Z",
        "outputId": "58b2680b-208a-4302-f6ea-b19616a2b86b"
      },
      "execution_count": 6,
      "outputs": [
        {
          "output_type": "stream",
          "name": "stdout",
          "text": [
            "The price of yfinance.Ticker object <TSLA> is 256.2300109863281\n"
          ]
        },
        {
          "output_type": "stream",
          "name": "stderr",
          "text": [
            "<ipython-input-6-f513812bc7ee>:6: FutureWarning: Series.__getitem__ treating keys as positions is deprecated. In a future version, integer keys will always be treated as labels (consistent with DataFrame behavior). To access a value by position, use `ser.iloc[pos]`\n",
            "  latest_price = price['Close'][0]\n"
          ]
        }
      ]
    },
    {
      "cell_type": "code",
      "source": [
        "def stock_price(ticker):\n",
        "  stock = yf.Ticker(ticker)\n",
        "  price = stock.history(period='1d')\n",
        "  latest_price = price['Close'].iloc[0]\n",
        "  cashflow = stock.cashflow\n",
        "\n",
        "  return latest_price,cashflow"
      ],
      "metadata": {
        "id": "y19cbvf1zI3i"
      },
      "execution_count": 7,
      "outputs": []
    },
    {
      "cell_type": "code",
      "source": [
        "stock_price('TSLA')"
      ],
      "metadata": {
        "colab": {
          "base_uri": "https://localhost:8080/"
        },
        "collapsed": true,
        "id": "PbH9aidA03jH",
        "outputId": "b851019a-09cb-44a4-c4d0-69f390508140"
      },
      "execution_count": 8,
      "outputs": [
        {
          "output_type": "execute_result",
          "data": {
            "text/plain": [
              "(256.2300109863281,\n",
              "                                                    2023-12-31     2022-12-31  \\\n",
              " Free Cash Flow                                   4357000000.0   7552000000.0   \n",
              " Repayment Of Debt                               -1815000000.0  -3866000000.0   \n",
              " Issuance Of Debt                                 3931000000.0            0.0   \n",
              " Issuance Of Capital Stock                                 NaN            0.0   \n",
              " Capital Expenditure                             -8899000000.0  -7172000000.0   \n",
              " Interest Paid Supplemental Data                   126000000.0    152000000.0   \n",
              " Income Tax Paid Supplemental Data                1119000000.0   1203000000.0   \n",
              " End Cash Position                               17189000000.0  16924000000.0   \n",
              " Beginning Cash Position                         16924000000.0  18144000000.0   \n",
              " Effect Of Exchange Rate Changes                     4000000.0   -444000000.0   \n",
              " Changes In Cash                                   261000000.0   -776000000.0   \n",
              " Financing Cash Flow                              2589000000.0  -3527000000.0   \n",
              " Cash Flow From Continuing Financing Activities   2589000000.0  -3527000000.0   \n",
              " Net Other Financing Charges                      -227000000.0   -202000000.0   \n",
              " Proceeds From Stock Option Exercised              700000000.0    541000000.0   \n",
              " Net Common Stock Issuance                                 NaN            0.0   \n",
              " Common Stock Issuance                                     NaN            0.0   \n",
              " Net Issuance Payments Of Debt                    2116000000.0  -3866000000.0   \n",
              " Net Long Term Debt Issuance                      2116000000.0  -3866000000.0   \n",
              " Long Term Debt Payments                         -1815000000.0  -3866000000.0   \n",
              " Long Term Debt Issuance                          3931000000.0            0.0   \n",
              " Investing Cash Flow                            -15584000000.0 -11973000000.0   \n",
              " Cash Flow From Continuing Investing Activities -15584000000.0 -11973000000.0   \n",
              " Net Other Investing Changes                               NaN     76000000.0   \n",
              " Net Investment Purchase And Sale                -6621000000.0  -5813000000.0   \n",
              " Sale Of Investment                              12491000000.0     22000000.0   \n",
              " Purchase Of Investment                         -19112000000.0  -5835000000.0   \n",
              " Net Business Purchase And Sale                    -64000000.0            0.0   \n",
              " Sale Of Business                                          NaN            0.0   \n",
              " Purchase Of Business                              -64000000.0            0.0   \n",
              " Net Intangibles Purchase And Sale                         0.0    927000000.0   \n",
              " Sale Of Intangibles                                       0.0    936000000.0   \n",
              " Purchase Of Intangibles                                   0.0     -9000000.0   \n",
              " Net PPE Purchase And Sale                       -8899000000.0  -7163000000.0   \n",
              " Purchase Of PPE                                 -8899000000.0  -7163000000.0   \n",
              " Operating Cash Flow                             13256000000.0  14724000000.0   \n",
              " Cash Flow From Continuing Operating Activities  13256000000.0  14724000000.0   \n",
              " Change In Working Capital                       -2248000000.0  -3712000000.0   \n",
              " Change In Other Working Capital                  1532000000.0   1131000000.0   \n",
              " Change In Other Current Liabilities                       NaN   1904000000.0   \n",
              " Change In Other Current Assets                  -1952000000.0  -1570000000.0   \n",
              " Change In Payables And Accrued Expense           2605000000.0   8029000000.0   \n",
              " Change In Payable                                2605000000.0   8029000000.0   \n",
              " Change In Account Payable                        2605000000.0   8029000000.0   \n",
              " Change In Prepaid Assets                        -2652000000.0  -3713000000.0   \n",
              " Change In Inventory                             -1195000000.0  -6465000000.0   \n",
              " Change In Receivables                            -586000000.0  -1124000000.0   \n",
              " Changes In Account Receivables                   -586000000.0  -1124000000.0   \n",
              " Other Non Cash Items                               81000000.0    340000000.0   \n",
              " Stock Based Compensation                         1812000000.0   1560000000.0   \n",
              " Asset Impairment Charge                           463000000.0    177000000.0   \n",
              " Deferred Tax                                    -6349000000.0   -196000000.0   \n",
              " Deferred Income Tax                             -6349000000.0   -196000000.0   \n",
              " Depreciation Amortization Depletion              4667000000.0   3747000000.0   \n",
              " Depreciation And Amortization                    4667000000.0   3747000000.0   \n",
              " Depreciation                                     4667000000.0   3747000000.0   \n",
              " Operating Gains Losses                           -144000000.0    221000000.0   \n",
              " Net Foreign Currency Exchange Gain Loss          -144000000.0     81000000.0   \n",
              " Gain Loss On Sale Of PPE                                  0.0    140000000.0   \n",
              " Net Income From Continuing Operations           14974000000.0  12587000000.0   \n",
              " \n",
              "                                                    2021-12-31     2020-12-31  \\\n",
              " Free Cash Flow                                   3483000000.0   2701000000.0   \n",
              " Repayment Of Debt                              -14615000000.0 -12201000000.0   \n",
              " Issuance Of Debt                                 8883000000.0   9713000000.0   \n",
              " Issuance Of Capital Stock                                 0.0  12269000000.0   \n",
              " Capital Expenditure                             -8014000000.0  -3242000000.0   \n",
              " Interest Paid Supplemental Data                   266000000.0    444000000.0   \n",
              " Income Tax Paid Supplemental Data                 561000000.0    115000000.0   \n",
              " End Cash Position                               18144000000.0  19901000000.0   \n",
              " Beginning Cash Position                         19901000000.0   6783000000.0   \n",
              " Effect Of Exchange Rate Changes                  -183000000.0    334000000.0   \n",
              " Changes In Cash                                 -1574000000.0  12784000000.0   \n",
              " Financing Cash Flow                             -5203000000.0   9973000000.0   \n",
              " Cash Flow From Continuing Financing Activities  -5203000000.0   9973000000.0   \n",
              " Net Other Financing Charges                      -178000000.0   -225000000.0   \n",
              " Proceeds From Stock Option Exercised              707000000.0    417000000.0   \n",
              " Net Common Stock Issuance                                 0.0  12269000000.0   \n",
              " Common Stock Issuance                                     0.0  12269000000.0   \n",
              " Net Issuance Payments Of Debt                   -5732000000.0  -2488000000.0   \n",
              " Net Long Term Debt Issuance                     -5732000000.0  -2488000000.0   \n",
              " Long Term Debt Payments                        -14615000000.0 -12201000000.0   \n",
              " Long Term Debt Issuance                          8883000000.0   9713000000.0   \n",
              " Investing Cash Flow                             -7868000000.0  -3132000000.0   \n",
              " Cash Flow From Continuing Investing Activities  -7868000000.0  -3132000000.0   \n",
              " Net Other Investing Changes                         6000000.0    123000000.0   \n",
              " Net Investment Purchase And Sale                 -132000000.0            0.0   \n",
              " Sale Of Investment                                        0.0            NaN   \n",
              " Purchase Of Investment                           -132000000.0            0.0   \n",
              " Net Business Purchase And Sale                            0.0    -13000000.0   \n",
              " Sale Of Business                                          0.0            NaN   \n",
              " Purchase Of Business                                      0.0    -13000000.0   \n",
              " Net Intangibles Purchase And Sale               -1228000000.0    -10000000.0   \n",
              " Sale Of Intangibles                               272000000.0            0.0   \n",
              " Purchase Of Intangibles                         -1500000000.0    -10000000.0   \n",
              " Net PPE Purchase And Sale                       -6514000000.0  -3232000000.0   \n",
              " Purchase Of PPE                                 -6514000000.0  -3232000000.0   \n",
              " Operating Cash Flow                             11497000000.0   5943000000.0   \n",
              " Cash Flow From Continuing Operating Activities  11497000000.0   5943000000.0   \n",
              " Change In Working Capital                         667000000.0    184000000.0   \n",
              " Change In Other Working Capital                   793000000.0    328000000.0   \n",
              " Change In Other Current Liabilities               476000000.0    495000000.0   \n",
              " Change In Other Current Assets                  -2114000000.0  -1416000000.0   \n",
              " Change In Payables And Accrued Expense           5367000000.0   2102000000.0   \n",
              " Change In Payable                                5367000000.0            NaN   \n",
              " Change In Account Payable                        5367000000.0            NaN   \n",
              " Change In Prepaid Assets                        -1540000000.0   -251000000.0   \n",
              " Change In Inventory                             -1709000000.0   -422000000.0   \n",
              " Change In Receivables                            -130000000.0   -652000000.0   \n",
              " Changes In Account Receivables                   -130000000.0   -652000000.0   \n",
              " Other Non Cash Items                              245000000.0    525000000.0   \n",
              " Stock Based Compensation                         2121000000.0   1734000000.0   \n",
              " Asset Impairment Charge                           140000000.0    202000000.0   \n",
              " Deferred Tax                                     -149000000.0            NaN   \n",
              " Deferred Income Tax                              -149000000.0            NaN   \n",
              " Depreciation Amortization Depletion              2911000000.0   2322000000.0   \n",
              " Depreciation And Amortization                    2911000000.0   2322000000.0   \n",
              " Depreciation                                     2911000000.0   2322000000.0   \n",
              " Operating Gains Losses                            -82000000.0    114000000.0   \n",
              " Net Foreign Currency Exchange Gain Loss           -55000000.0    114000000.0   \n",
              " Gain Loss On Sale Of PPE                          -27000000.0            0.0   \n",
              " Net Income From Continuing Operations            5644000000.0    862000000.0   \n",
              " \n",
              "                                                  2019-12-31  \n",
              " Free Cash Flow                                          NaN  \n",
              " Repayment Of Debt                                       NaN  \n",
              " Issuance Of Debt                                        NaN  \n",
              " Issuance Of Capital Stock                       848000000.0  \n",
              " Capital Expenditure                                     NaN  \n",
              " Interest Paid Supplemental Data                         NaN  \n",
              " Income Tax Paid Supplemental Data                       NaN  \n",
              " End Cash Position                                       NaN  \n",
              " Beginning Cash Position                                 NaN  \n",
              " Effect Of Exchange Rate Changes                         NaN  \n",
              " Changes In Cash                                         NaN  \n",
              " Financing Cash Flow                                     NaN  \n",
              " Cash Flow From Continuing Financing Activities          NaN  \n",
              " Net Other Financing Charges                             NaN  \n",
              " Proceeds From Stock Option Exercised                    NaN  \n",
              " Net Common Stock Issuance                       848000000.0  \n",
              " Common Stock Issuance                           848000000.0  \n",
              " Net Issuance Payments Of Debt                           NaN  \n",
              " Net Long Term Debt Issuance                             NaN  \n",
              " Long Term Debt Payments                                 NaN  \n",
              " Long Term Debt Issuance                                 NaN  \n",
              " Investing Cash Flow                                     NaN  \n",
              " Cash Flow From Continuing Investing Activities          NaN  \n",
              " Net Other Investing Changes                      46000000.0  \n",
              " Net Investment Purchase And Sale                        NaN  \n",
              " Sale Of Investment                                      NaN  \n",
              " Purchase Of Investment                                  NaN  \n",
              " Net Business Purchase And Sale                          NaN  \n",
              " Sale Of Business                                        NaN  \n",
              " Purchase Of Business                                    NaN  \n",
              " Net Intangibles Purchase And Sale                       NaN  \n",
              " Sale Of Intangibles                                     NaN  \n",
              " Purchase Of Intangibles                                 NaN  \n",
              " Net PPE Purchase And Sale                               NaN  \n",
              " Purchase Of PPE                                         NaN  \n",
              " Operating Cash Flow                                     NaN  \n",
              " Cash Flow From Continuing Operating Activities          NaN  \n",
              " Change In Working Capital                               NaN  \n",
              " Change In Other Working Capital                         NaN  \n",
              " Change In Other Current Liabilities              -5000000.0  \n",
              " Change In Other Current Assets                          NaN  \n",
              " Change In Payables And Accrued Expense                  NaN  \n",
              " Change In Payable                                       NaN  \n",
              " Change In Account Payable                               NaN  \n",
              " Change In Prepaid Assets                                NaN  \n",
              " Change In Inventory                                     NaN  \n",
              " Change In Receivables                                   NaN  \n",
              " Changes In Account Receivables                          NaN  \n",
              " Other Non Cash Items                                    NaN  \n",
              " Stock Based Compensation                                NaN  \n",
              " Asset Impairment Charge                                 NaN  \n",
              " Deferred Tax                                            NaN  \n",
              " Deferred Income Tax                                     NaN  \n",
              " Depreciation Amortization Depletion                     NaN  \n",
              " Depreciation And Amortization                           NaN  \n",
              " Depreciation                                            NaN  \n",
              " Operating Gains Losses                                  NaN  \n",
              " Net Foreign Currency Exchange Gain Loss                 NaN  \n",
              " Gain Loss On Sale Of PPE                                NaN  \n",
              " Net Income From Continuing Operations                   NaN  )"
            ]
          },
          "metadata": {},
          "execution_count": 8
        }
      ]
    },
    {
      "cell_type": "markdown",
      "source": [
        "#function"
      ],
      "metadata": {
        "id": "9utGw-3C35tF"
      }
    },
    {
      "cell_type": "code",
      "source": [
        "functions =[\n",
        "     {\n",
        "        \"name\": \"stock_price\",\n",
        "        \"description\": \"Get the current stock price\",\n",
        "        \"strict\": True,\n",
        "        \"parameters\": {\n",
        "          \"type\": \"object\",\n",
        "          \"properties\": {\n",
        "            \"symbol\": {\n",
        "              \"type\": \"string\",\n",
        "              \"description\": \"The stock symbol\"\n",
        "            }\n",
        "          },\n",
        "          \"additionalProperties\": False,\n",
        "          \"required\": [\n",
        "            \"symbol\"\n",
        "          ]\n",
        "        }\n",
        "      }\n",
        "]"
      ],
      "metadata": {
        "id": "DmcKwIVl07Bt"
      },
      "execution_count": 9,
      "outputs": []
    },
    {
      "cell_type": "code",
      "source": [
        "functions"
      ],
      "metadata": {
        "colab": {
          "base_uri": "https://localhost:8080/"
        },
        "collapsed": true,
        "id": "liYbzV_d5SBw",
        "outputId": "9b81cf13-8bf3-470a-9ebc-4dab97e85aa9"
      },
      "execution_count": 10,
      "outputs": [
        {
          "output_type": "execute_result",
          "data": {
            "text/plain": [
              "[{'name': 'stock_price',\n",
              "  'description': 'Get the current stock price',\n",
              "  'strict': True,\n",
              "  'parameters': {'type': 'object',\n",
              "   'properties': {'symbol': {'type': 'string',\n",
              "     'description': 'The stock symbol'}},\n",
              "   'additionalProperties': False,\n",
              "   'required': ['symbol']}}]"
            ]
          },
          "metadata": {},
          "execution_count": 10
        }
      ]
    },
    {
      "cell_type": "code",
      "source": [],
      "metadata": {
        "id": "8znB4isq9Gb1"
      },
      "execution_count": 10,
      "outputs": []
    },
    {
      "cell_type": "code",
      "source": [
        "openai.api_key = userdata.get('apopen')"
      ],
      "metadata": {
        "id": "LzobVff06a58"
      },
      "execution_count": 11,
      "outputs": []
    },
    {
      "cell_type": "code",
      "source": [
        "#function will be used in the below code. structure is copied from the documentation.\n",
        "def stock_chat(user_message):\n",
        "    messages=[]\n",
        "    messages.append({\"role\": \"user\", \"content\": user_message})\n",
        "    messages.append({\"role\": \"assistant\", \"content\": \"You are a stock information bot. Answer only related to stock information.\"})\n",
        "\n",
        "\n",
        "\n",
        "        # Sending Initial Message to OpenAI\n",
        "    response = openai.ChatCompletion.create(\n",
        "            model=\"gpt-3.5-turbo\",\n",
        "            temperature = 0,\n",
        "            max_tokens=50,\n",
        "            top_p=0.5,\n",
        "            frequency_penalty=0,\n",
        "            presence_penalty=0,\n",
        "            messages=messages,\n",
        "            functions=functions\n",
        "        )\n",
        "\n",
        "\n",
        "\n",
        "    #Handling Function Calls and Fetching stocks Data\n",
        "    try:\n",
        "        function_call = response['choices'][0]['message']['function_call']\n",
        "        arguments = eval(function_call['arguments'])\n",
        "        # arguments = json.loads(function_call['arguments'])\n",
        "\n",
        "        # Fetch stocks data using the extracted arguments\n",
        "        stock_data = stock_price(arguments['symbol'])\n",
        "\n",
        "        # Append the function call and stocks data to the messages\n",
        "        messages.append({\"role\": \"assistant\", \"content\": None, \"function_call\": {\"name\": \"stock_price\", \"arguments\": str(arguments)}})\n",
        "        messages.append({\"role\": \"function\", \"name\": \"stock_price\", \"content\": str(stock_data)})\n",
        "\n",
        "        #magic of llm\n",
        "        response = openai.ChatCompletion.create(\n",
        "            model=\"gpt-3.5-turbo\",\n",
        "            messages=messages\n",
        "        )\n",
        "\n",
        "        return response['choices'][0]['message']['content']\n",
        "    except Exception as e:\n",
        "        return \"I'm here to provide stocks information. Please ask me questions related to Stock Market.\""
      ],
      "metadata": {
        "id": "b1zzSWvc0RSg"
      },
      "execution_count": 18,
      "outputs": []
    },
    {
      "cell_type": "code",
      "source": [
        "stock_chat('what is the CASHFLOW AND OTHER FINANCIALS of tsla today')"
      ],
      "metadata": {
        "colab": {
          "base_uri": "https://localhost:8080/",
          "height": 70
        },
        "id": "QDUzzyFm5zFj",
        "outputId": "ff149fb5-fb01-42f8-bf6a-58a41d0832e0"
      },
      "execution_count": 21,
      "outputs": [
        {
          "output_type": "execute_result",
          "data": {
            "text/plain": [
              "'As of the most recent financial data available, Tesla (TSLA) reported the following financials:\\n\\n- Free Cash Flow: $4.35 billion\\n- Repayment of Debt: -$1.815 billion\\n- Issuance of Debt: $3.931 billion\\n- Capital Expenditure: -$8.899 billion\\n- Interest Paid: $126 million\\n- Income Tax Paid: $1.119 billion\\n- Operating Cash Flow: $13.256 billion\\n\\nPlease note that financial data can vary over time and it is recommended to refer to the latest financial reports for the most up-to-date information.'"
            ],
            "application/vnd.google.colaboratory.intrinsic+json": {
              "type": "string"
            }
          },
          "metadata": {},
          "execution_count": 21
        }
      ]
    },
    {
      "source": [
        "# import openai\n",
        "# Make sure you have the openai package installed. If not, use !pip install openai\n",
        "# !pip install openai\n",
        "\n",
        "# Set your OpenAI API key here. Replace <API-KEY> with your actual key\n",
        "openai.api_key = userdata.get('apopen')\n",
        "\n",
        "#function will be used in the below code. structure is copied from the documentation.\n",
        "def stock_chat(user_message):\n",
        "    messages=[]\n",
        "    messages.append({\"role\": \"user\", \"content\": user_message})\n",
        "    messages.append({\"role\": \"assistant\", \"content\": \"You are a stock information bot. Answer only related to stock information.\"})\n",
        "\n",
        "\n",
        "        # Sending Initial Message to OpenAI\n",
        "    response = openai.ChatCompletion.create(\n",
        "            model=\"gpt-3.5-turbo\",\n",
        "            temperature = 0,\n",
        "            max_tokens=256,\n",
        "            top_p=0.5,\n",
        "            frequency_penalty=0,\n",
        "            presence_penalty=0,\n",
        "            messages=messages,\n",
        "            functions=functions\n",
        "        )\n",
        "\n",
        "\n",
        "\n",
        "    #Handling Function Calls and Fetching stocks Data\n",
        "    try:\n",
        "        function_call = response['choices'][0]['message']['function_call']\n",
        "        arguments = eval(function_call['arguments'])\n",
        "\n",
        "        # Fetch stocks data using the extracted arguments\n",
        "        # Note: This assumes you have a function named 'stock_price' defined elsewhere\n",
        "        stock_data = stock_price(arguments['ticker'])\n",
        "\n",
        "        # Append the function call and stocks data to the messages\n",
        "        messages.append({\"role\": \"assistant\", \"content\": None, \"function_call\": {\"name\": \"stock_price\", \"arguments\": str(arguments)}})\n",
        "        messages.append({\"role\": \"function\", \"name\": \"stock_price\", \"content\": str(stock_data)})\n",
        "\n",
        "        #magic of llm\n",
        "        response = openai.ChatCompletion.create(\n",
        "            model=\"gpt-3.5-turbo\",\n",
        "            messages=messages\n",
        "        )\n",
        "\n",
        "        return response['choices'][0]['message']['content']\n",
        "    except Exception as e:\n",
        "        return \"I'm here to provide stocks information. Please ask me questions related to Stock Market.\""
      ],
      "cell_type": "code",
      "metadata": {
        "id": "16MT99uB7q2O"
      },
      "execution_count": 14,
      "outputs": []
    },
    {
      "cell_type": "code",
      "source": [
        "stock_chat(\"what is the status of TSLA today\")"
      ],
      "metadata": {
        "colab": {
          "base_uri": "https://localhost:8080/",
          "height": 287
        },
        "id": "wTsPUpMq54Ib",
        "outputId": "95d0bdca-9a75-4c08-abaf-6c1907cc589f"
      },
      "execution_count": 15,
      "outputs": [
        {
          "output_type": "error",
          "ename": "InvalidRequestError",
          "evalue": "Invalid function definition for 'stock_price': the 'strict' parameter is only permitted in 'tools'.",
          "traceback": [
            "\u001b[0;31m---------------------------------------------------------------------------\u001b[0m",
            "\u001b[0;31mInvalidRequestError\u001b[0m                       Traceback (most recent call last)",
            "\u001b[0;32m<ipython-input-15-bd233799e7ea>\u001b[0m in \u001b[0;36m<cell line: 1>\u001b[0;34m()\u001b[0m\n\u001b[0;32m----> 1\u001b[0;31m \u001b[0mstock_chat\u001b[0m\u001b[0;34m(\u001b[0m\u001b[0;34m\"what is the status of TSLA today\"\u001b[0m\u001b[0;34m)\u001b[0m\u001b[0;34m\u001b[0m\u001b[0;34m\u001b[0m\u001b[0m\n\u001b[0m",
            "\u001b[0;32m<ipython-input-14-33fadbe40e40>\u001b[0m in \u001b[0;36mstock_chat\u001b[0;34m(user_message)\u001b[0m\n\u001b[1;32m     14\u001b[0m \u001b[0;34m\u001b[0m\u001b[0m\n\u001b[1;32m     15\u001b[0m         \u001b[0;31m# Sending Initial Message to OpenAI\u001b[0m\u001b[0;34m\u001b[0m\u001b[0;34m\u001b[0m\u001b[0m\n\u001b[0;32m---> 16\u001b[0;31m     response = openai.ChatCompletion.create(\n\u001b[0m\u001b[1;32m     17\u001b[0m             \u001b[0mmodel\u001b[0m\u001b[0;34m=\u001b[0m\u001b[0;34m\"gpt-3.5-turbo\"\u001b[0m\u001b[0;34m,\u001b[0m\u001b[0;34m\u001b[0m\u001b[0;34m\u001b[0m\u001b[0m\n\u001b[1;32m     18\u001b[0m             \u001b[0mtemperature\u001b[0m \u001b[0;34m=\u001b[0m \u001b[0;36m0\u001b[0m\u001b[0;34m,\u001b[0m\u001b[0;34m\u001b[0m\u001b[0;34m\u001b[0m\u001b[0m\n",
            "\u001b[0;32m/usr/local/lib/python3.10/dist-packages/openai/api_resources/chat_completion.py\u001b[0m in \u001b[0;36mcreate\u001b[0;34m(cls, *args, **kwargs)\u001b[0m\n\u001b[1;32m     23\u001b[0m         \u001b[0;32mwhile\u001b[0m \u001b[0;32mTrue\u001b[0m\u001b[0;34m:\u001b[0m\u001b[0;34m\u001b[0m\u001b[0;34m\u001b[0m\u001b[0m\n\u001b[1;32m     24\u001b[0m             \u001b[0;32mtry\u001b[0m\u001b[0;34m:\u001b[0m\u001b[0;34m\u001b[0m\u001b[0;34m\u001b[0m\u001b[0m\n\u001b[0;32m---> 25\u001b[0;31m                 \u001b[0;32mreturn\u001b[0m \u001b[0msuper\u001b[0m\u001b[0;34m(\u001b[0m\u001b[0;34m)\u001b[0m\u001b[0;34m.\u001b[0m\u001b[0mcreate\u001b[0m\u001b[0;34m(\u001b[0m\u001b[0;34m*\u001b[0m\u001b[0margs\u001b[0m\u001b[0;34m,\u001b[0m \u001b[0;34m**\u001b[0m\u001b[0mkwargs\u001b[0m\u001b[0;34m)\u001b[0m\u001b[0;34m\u001b[0m\u001b[0;34m\u001b[0m\u001b[0m\n\u001b[0m\u001b[1;32m     26\u001b[0m             \u001b[0;32mexcept\u001b[0m \u001b[0mTryAgain\u001b[0m \u001b[0;32mas\u001b[0m \u001b[0me\u001b[0m\u001b[0;34m:\u001b[0m\u001b[0;34m\u001b[0m\u001b[0;34m\u001b[0m\u001b[0m\n\u001b[1;32m     27\u001b[0m                 \u001b[0;32mif\u001b[0m \u001b[0mtimeout\u001b[0m \u001b[0;32mis\u001b[0m \u001b[0;32mnot\u001b[0m \u001b[0;32mNone\u001b[0m \u001b[0;32mand\u001b[0m \u001b[0mtime\u001b[0m\u001b[0;34m.\u001b[0m\u001b[0mtime\u001b[0m\u001b[0;34m(\u001b[0m\u001b[0;34m)\u001b[0m \u001b[0;34m>\u001b[0m \u001b[0mstart\u001b[0m \u001b[0;34m+\u001b[0m \u001b[0mtimeout\u001b[0m\u001b[0;34m:\u001b[0m\u001b[0;34m\u001b[0m\u001b[0;34m\u001b[0m\u001b[0m\n",
            "\u001b[0;32m/usr/local/lib/python3.10/dist-packages/openai/api_resources/abstract/engine_api_resource.py\u001b[0m in \u001b[0;36mcreate\u001b[0;34m(cls, api_key, api_base, api_type, request_id, api_version, organization, **params)\u001b[0m\n\u001b[1;32m    151\u001b[0m         )\n\u001b[1;32m    152\u001b[0m \u001b[0;34m\u001b[0m\u001b[0m\n\u001b[0;32m--> 153\u001b[0;31m         response, _, api_key = requestor.request(\n\u001b[0m\u001b[1;32m    154\u001b[0m             \u001b[0;34m\"post\"\u001b[0m\u001b[0;34m,\u001b[0m\u001b[0;34m\u001b[0m\u001b[0;34m\u001b[0m\u001b[0m\n\u001b[1;32m    155\u001b[0m             \u001b[0murl\u001b[0m\u001b[0;34m,\u001b[0m\u001b[0;34m\u001b[0m\u001b[0;34m\u001b[0m\u001b[0m\n",
            "\u001b[0;32m/usr/local/lib/python3.10/dist-packages/openai/api_requestor.py\u001b[0m in \u001b[0;36mrequest\u001b[0;34m(self, method, url, params, headers, files, stream, request_id, request_timeout)\u001b[0m\n\u001b[1;32m    296\u001b[0m             \u001b[0mrequest_timeout\u001b[0m\u001b[0;34m=\u001b[0m\u001b[0mrequest_timeout\u001b[0m\u001b[0;34m,\u001b[0m\u001b[0;34m\u001b[0m\u001b[0;34m\u001b[0m\u001b[0m\n\u001b[1;32m    297\u001b[0m         )\n\u001b[0;32m--> 298\u001b[0;31m         \u001b[0mresp\u001b[0m\u001b[0;34m,\u001b[0m \u001b[0mgot_stream\u001b[0m \u001b[0;34m=\u001b[0m \u001b[0mself\u001b[0m\u001b[0;34m.\u001b[0m\u001b[0m_interpret_response\u001b[0m\u001b[0;34m(\u001b[0m\u001b[0mresult\u001b[0m\u001b[0;34m,\u001b[0m \u001b[0mstream\u001b[0m\u001b[0;34m)\u001b[0m\u001b[0;34m\u001b[0m\u001b[0;34m\u001b[0m\u001b[0m\n\u001b[0m\u001b[1;32m    299\u001b[0m         \u001b[0;32mreturn\u001b[0m \u001b[0mresp\u001b[0m\u001b[0;34m,\u001b[0m \u001b[0mgot_stream\u001b[0m\u001b[0;34m,\u001b[0m \u001b[0mself\u001b[0m\u001b[0;34m.\u001b[0m\u001b[0mapi_key\u001b[0m\u001b[0;34m\u001b[0m\u001b[0;34m\u001b[0m\u001b[0m\n\u001b[1;32m    300\u001b[0m \u001b[0;34m\u001b[0m\u001b[0m\n",
            "\u001b[0;32m/usr/local/lib/python3.10/dist-packages/openai/api_requestor.py\u001b[0m in \u001b[0;36m_interpret_response\u001b[0;34m(self, result, stream)\u001b[0m\n\u001b[1;32m    698\u001b[0m         \u001b[0;32melse\u001b[0m\u001b[0;34m:\u001b[0m\u001b[0;34m\u001b[0m\u001b[0;34m\u001b[0m\u001b[0m\n\u001b[1;32m    699\u001b[0m             return (\n\u001b[0;32m--> 700\u001b[0;31m                 self._interpret_response_line(\n\u001b[0m\u001b[1;32m    701\u001b[0m                     \u001b[0mresult\u001b[0m\u001b[0;34m.\u001b[0m\u001b[0mcontent\u001b[0m\u001b[0;34m.\u001b[0m\u001b[0mdecode\u001b[0m\u001b[0;34m(\u001b[0m\u001b[0;34m\"utf-8\"\u001b[0m\u001b[0;34m)\u001b[0m\u001b[0;34m,\u001b[0m\u001b[0;34m\u001b[0m\u001b[0;34m\u001b[0m\u001b[0m\n\u001b[1;32m    702\u001b[0m                     \u001b[0mresult\u001b[0m\u001b[0;34m.\u001b[0m\u001b[0mstatus_code\u001b[0m\u001b[0;34m,\u001b[0m\u001b[0;34m\u001b[0m\u001b[0;34m\u001b[0m\u001b[0m\n",
            "\u001b[0;32m/usr/local/lib/python3.10/dist-packages/openai/api_requestor.py\u001b[0m in \u001b[0;36m_interpret_response_line\u001b[0;34m(self, rbody, rcode, rheaders, stream)\u001b[0m\n\u001b[1;32m    763\u001b[0m         \u001b[0mstream_error\u001b[0m \u001b[0;34m=\u001b[0m \u001b[0mstream\u001b[0m \u001b[0;32mand\u001b[0m \u001b[0;34m\"error\"\u001b[0m \u001b[0;32min\u001b[0m \u001b[0mresp\u001b[0m\u001b[0;34m.\u001b[0m\u001b[0mdata\u001b[0m\u001b[0;34m\u001b[0m\u001b[0;34m\u001b[0m\u001b[0m\n\u001b[1;32m    764\u001b[0m         \u001b[0;32mif\u001b[0m \u001b[0mstream_error\u001b[0m \u001b[0;32mor\u001b[0m \u001b[0;32mnot\u001b[0m \u001b[0;36m200\u001b[0m \u001b[0;34m<=\u001b[0m \u001b[0mrcode\u001b[0m \u001b[0;34m<\u001b[0m \u001b[0;36m300\u001b[0m\u001b[0;34m:\u001b[0m\u001b[0;34m\u001b[0m\u001b[0;34m\u001b[0m\u001b[0m\n\u001b[0;32m--> 765\u001b[0;31m             raise self.handle_error_response(\n\u001b[0m\u001b[1;32m    766\u001b[0m                 \u001b[0mrbody\u001b[0m\u001b[0;34m,\u001b[0m \u001b[0mrcode\u001b[0m\u001b[0;34m,\u001b[0m \u001b[0mresp\u001b[0m\u001b[0;34m.\u001b[0m\u001b[0mdata\u001b[0m\u001b[0;34m,\u001b[0m \u001b[0mrheaders\u001b[0m\u001b[0;34m,\u001b[0m \u001b[0mstream_error\u001b[0m\u001b[0;34m=\u001b[0m\u001b[0mstream_error\u001b[0m\u001b[0;34m\u001b[0m\u001b[0;34m\u001b[0m\u001b[0m\n\u001b[1;32m    767\u001b[0m             )\n",
            "\u001b[0;31mInvalidRequestError\u001b[0m: Invalid function definition for 'stock_price': the 'strict' parameter is only permitted in 'tools'."
          ]
        }
      ]
    },
    {
      "cell_type": "code",
      "source": [
        "# !pip install openai==0.28\n",
        "# !pip install gradio\n",
        "# !pip install yfinance\n",
        "\n",
        "from google.colab import userdata\n",
        "import pandas as pd\n",
        "import openai\n",
        "import gradio as gr\n",
        "import requests\n",
        "import yfinance as yf\n",
        "import json\n",
        "\n",
        "symbol = 'TSLA'\n",
        "\n",
        "# Fetch latest stock price\n",
        "def stock_price(ticker):\n",
        "    stock = yf.Ticker(ticker)\n",
        "    price = stock.history(period='1d')\n",
        "    latest_price = price['Close'].iloc[0]\n",
        "    cashflow = stock.cashflow\n",
        "    return latest_price, cashflow\n",
        "\n",
        "# Define function schema\n",
        "functions = [\n",
        "    {\n",
        "        \"name\": \"stock_price\",\n",
        "        \"description\": \"Get the current stock price\",\n",
        "        \"parameters\": {\n",
        "            \"type\": \"object\",\n",
        "            \"properties\": {\n",
        "                \"symbol\": {\n",
        "                    \"type\": \"string\",\n",
        "                    \"description\": \"The stock symbol\"\n",
        "                }\n",
        "            },\n",
        "            \"additionalProperties\": False,\n",
        "            \"required\": [\n",
        "                \"symbol\"\n",
        "            ]\n",
        "        }\n",
        "    }\n",
        "]\n",
        "\n",
        "openai.api_key = userdata.get('apopen')\n",
        "\n",
        "# Main function to interact with OpenAI API\n",
        "def stock_chat(user_message):\n",
        "    messages = [\n",
        "        {\"role\": \"user\", \"content\": user_message},\n",
        "        {\"role\": \"assistant\", \"content\": \"You are a stock information bot. Answer only related to stock information.\"}\n",
        "    ]\n",
        "\n",
        "    # Sending Initial Message to OpenAI\n",
        "    response = openai.ChatCompletion.create(\n",
        "        model=\"gpt-3.5-turbo\",\n",
        "        temperature=0,\n",
        "        max_tokens=50,\n",
        "        top_p=0.5,\n",
        "        frequency_penalty=0,\n",
        "        presence_penalty=0,\n",
        "        messages=messages,\n",
        "        functions=functions\n",
        "    )\n",
        "\n",
        "    # Handling Function Calls and Fetching Stocks Data\n",
        "    try:\n",
        "        function_call = response['choices'][0]['message']['function_call']\n",
        "        arguments = json.loads(function_call['arguments'])\n",
        "\n",
        "        # Fetch stock data using the extracted arguments\n",
        "        stock_data = stock_price(arguments['symbol'])\n",
        "\n",
        "        # Append the function call and stocks data to the messages\n",
        "        messages.append({\"role\": \"assistant\", \"content\": None, \"function_call\": {\"name\": \"get_stock_price\", \"arguments\": str(arguments)}})\n",
        "        messages.append({\"role\": \"function\", \"name\": \"get_stock_price\", \"content\": str(stock_data)})\n",
        "\n",
        "        # Magic of LLM\n",
        "        response = openai.ChatCompletion.create(\n",
        "            model=\"gpt-3.5-turbo\",\n",
        "            messages=messages\n",
        "        )\n",
        "\n",
        "        return response['choices'][0]['message']['content']\n",
        "    except Exception as e:\n",
        "        return \"I'm here to provide stocks information. Please ask me questions related to the Stock Market.\"\n",
        "\n",
        "\n"
      ],
      "metadata": {
        "id": "B05akkEQ71N_"
      },
      "execution_count": 16,
      "outputs": []
    },
    {
      "cell_type": "code",
      "source": [
        "# Example call\n",
        "print(stock_chat(\"give me the history of TSLA?\"))"
      ],
      "metadata": {
        "colab": {
          "base_uri": "https://localhost:8080/"
        },
        "id": "sWcc92Zv9mF_",
        "outputId": "baf973a3-8fbf-4746-8900-0da3c89aac09"
      },
      "execution_count": 17,
      "outputs": [
        {
          "output_type": "stream",
          "name": "stdout",
          "text": [
            "Tesla, Inc. (TSLA) is an American electric vehicle and clean energy company founded in 2003 by Martin Eberhard and Marc Tarpenning. The company's current CEO, Elon Musk, became involved in Tesla shortly after its founding and has been instrumental in its growth and success.\n",
            "\n",
            "Tesla's mission is to accelerate the transition to sustainable energy by producing electric vehicles, solar products, and energy storage solutions. The company's electric vehicles have gained popularity for their innovative design, performance, and environmental benefits.\n",
            "\n",
            "Since its founding, Tesla has experienced significant growth and has become one of the leading electric vehicle manufacturers in the world. The company went public in 2010 and has seen its stock price rise significantly in recent years, making it one of the most valuable automakers in the world.\n",
            "\n",
            "Tesla continues to innovate in the electric vehicle and renewable energy space, with plans to expand its product line and production capacity in the coming years. The company's success has been driven by its focus on innovation, technology, and sustainability.\n"
          ]
        }
      ]
    },
    {
      "cell_type": "code",
      "source": [],
      "metadata": {
        "id": "l3d53KSv9w0M"
      },
      "execution_count": null,
      "outputs": []
    }
  ]
}